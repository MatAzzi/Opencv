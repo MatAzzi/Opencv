{
 "cells": [
  {
   "cell_type": "code",
   "execution_count": 13,
   "id": "165d521e-424d-4b7d-b0b5-b27de8415bcf",
   "metadata": {},
   "outputs": [],
   "source": [
    "import cv2 as cv\n",
    "import numpy as np\n",
    "import time\n",
    "import sys\n",
    "sys.path.append('C:/Users/matia/Proyectos/Opencv/')\n",
    "import PoseeModule as pm\n",
    "\n",
    "cap = cv.VideoCapture(0)\n",
    "pTime=0 #tiempo previo\n",
    "cTime=0\n",
    "detector = pm.poseDetector()\n",
    "\n",
    "while True:\n",
    "    success, img =cap.read()\n",
    "    if not success:\n",
    "        print('Camara no detectada')\n",
    "        \n",
    "    cTime = time.time()\n",
    "    fps = 1/(cTime-pTime)\n",
    "    pTime = cTime\n",
    "    img = detector.findPose(img)\n",
    "    lmList = detector.findPosition(img, False)\n",
    "    if len(lmList) != 0:\n",
    "        detector.findAngle(img, 12,14,16)\n",
    "        \n",
    "    \n",
    "    cv.putText(img, 'fps: ' + str(int(fps)), (10,30), cv.FONT_HERSHEY_PLAIN, 1, (0,0,0), 1)\n",
    "    cv.imshow('video',img)\n",
    "\n",
    "    if cv.waitKey(20) & 0xFF==ord('d'):\n",
    "         break\n",
    "            \n",
    "cap.release()\n",
    "cv.destroyAllWindows()"
   ]
  },
  {
   "cell_type": "code",
   "execution_count": 4,
   "id": "bc29c224-edc7-42a0-a844-79dbd1bb5100",
   "metadata": {},
   "outputs": [
    {
     "ename": "NameError",
     "evalue": "name 'Help' is not defined",
     "output_type": "error",
     "traceback": [
      "\u001b[1;31m---------------------------------------------------------------------------\u001b[0m",
      "\u001b[1;31mNameError\u001b[0m                                 Traceback (most recent call last)",
      "\u001b[1;32m<ipython-input-4-a41cf8dab0cb>\u001b[0m in \u001b[0;36m<module>\u001b[1;34m\u001b[0m\n\u001b[1;32m----> 1\u001b[1;33m \u001b[0mKite\u001b[0m\u001b[1;33m:\u001b[0m \u001b[0mHelp\u001b[0m\u001b[1;33m\u001b[0m\u001b[1;33m\u001b[0m\u001b[0m\n\u001b[0m",
      "\u001b[1;31mNameError\u001b[0m: name 'Help' is not defined"
     ]
    }
   ],
   "source": [
    "Kite: Help\n"
   ]
  },
  {
   "cell_type": "code",
   "execution_count": null,
   "id": "6d6894cc-c7f5-4eed-8ab9-f864a1568d2f",
   "metadata": {},
   "outputs": [],
   "source": []
  }
 ],
 "metadata": {
  "kernelspec": {
   "display_name": "Python 3",
   "language": "python",
   "name": "python3"
  },
  "language_info": {
   "codemirror_mode": {
    "name": "ipython",
    "version": 3
   },
   "file_extension": ".py",
   "mimetype": "text/x-python",
   "name": "python",
   "nbconvert_exporter": "python",
   "pygments_lexer": "ipython3",
   "version": "3.9.5"
  },
  "toc-autonumbering": false,
  "toc-showmarkdowntxt": false,
  "toc-showtags": true
 },
 "nbformat": 4,
 "nbformat_minor": 5
}
