{
 "cells": [
  {
   "cell_type": "code",
   "execution_count": 2,
   "id": "e9fac50d-feea-466b-b3cf-1e62eed8960b",
   "metadata": {},
   "outputs": [
    {
     "name": "stdout",
     "output_type": "stream",
     "text": [
      "Collecting opencv-contrib-pythonNote: you may need to restart the kernel to use updated packages.\n",
      "  Downloading opencv_contrib_python-4.5.3.56-cp39-cp39-win_amd64.whl (41.8 MB)\n",
      "Collecting numpy>=1.19.3\n",
      "  Downloading numpy-1.21.0-cp39-cp39-win_amd64.whl (14.0 MB)\n",
      "Installing collected packages: numpy, opencv-contrib-python\n",
      "Successfully installed numpy-1.21.0 opencv-contrib-python-4.5.3.56\n",
      "\n"
     ]
    }
   ],
   "source": [
    "pip install opencv-contrib-python"
   ]
  },
  {
   "cell_type": "code",
   "execution_count": 3,
   "id": "77257e9e-b10a-45e6-994d-e5a3b0bec4d8",
   "metadata": {},
   "outputs": [
    {
     "name": "stdout",
     "output_type": "stream",
     "text": [
      "Collecting caer\n",
      "  Using cached caer-1.9.8-py3-none-any.whl (838 kB)\n",
      "Collecting typing-extensions\n",
      "  Using cached typing_extensions-3.10.0.0-py3-none-any.whl (26 kB)\n",
      "Requirement already satisfied: numpy in d:\\anaconda3\\envs\\ocv\\lib\\site-packages (from caer) (1.21.0)\n",
      "Requirement already satisfied: opencv-contrib-python in d:\\anaconda3\\envs\\ocv\\lib\\site-packages (from caer) (4.5.3.56)\n",
      "Collecting mypy\n",
      "  Downloading mypy-0.910-cp39-cp39-win_amd64.whl (7.5 MB)\n",
      "Collecting mypy-extensions<0.5.0,>=0.4.3\n",
      "  Using cached mypy_extensions-0.4.3-py2.py3-none-any.whl (4.5 kB)\n",
      "Collecting toml\n",
      "  Downloading toml-0.10.2-py2.py3-none-any.whl (16 kB)\n",
      "Installing collected packages: typing-extensions, toml, mypy-extensions, mypy, caer\n",
      "Successfully installed caer-1.9.8 mypy-0.910 mypy-extensions-0.4.3 toml-0.10.2 typing-extensions-3.10.0.0\n",
      "Note: you may need to restart the kernel to use updated packages.\n"
     ]
    }
   ],
   "source": [
    "pip install caer"
   ]
  },
  {
   "cell_type": "code",
   "execution_count": null,
   "id": "dc113eb5-3909-405b-a88e-db4841b3eaf5",
   "metadata": {},
   "outputs": [],
   "source": [
    "pip install numpy"
   ]
  },
  {
   "cell_type": "code",
   "execution_count": 18,
   "id": "a3cebee8-7b62-4c39-95ab-8e14749e5399",
   "metadata": {},
   "outputs": [
    {
     "name": "stdout",
     "output_type": "stream",
     "text": [
      "Collecting matplotlib\n",
      "  Using cached matplotlib-3.4.2-cp39-cp39-win_amd64.whl (7.1 MB)\n",
      "Collecting pillow>=6.2.0\n",
      "  Downloading Pillow-8.3.1-1-cp39-cp39-win_amd64.whl (3.2 MB)\n",
      "Requirement already satisfied: numpy>=1.16 in d:\\anaconda3\\envs\\ocv\\lib\\site-packages (from matplotlib) (1.21.0)\n",
      "Collecting cycler>=0.10\n",
      "  Using cached cycler-0.10.0-py2.py3-none-any.whl (6.5 kB)\n",
      "Collecting kiwisolver>=1.0.1\n",
      "  Using cached kiwisolver-1.3.1-cp39-cp39-win_amd64.whl (51 kB)\n",
      "Requirement already satisfied: python-dateutil>=2.7 in d:\\anaconda3\\envs\\ocv\\lib\\site-packages (from matplotlib) (2.8.2)\n",
      "Requirement already satisfied: pyparsing>=2.2.1 in d:\\anaconda3\\envs\\ocv\\lib\\site-packages (from matplotlib) (2.4.7)\n",
      "Requirement already satisfied: six in d:\\anaconda3\\envs\\ocv\\lib\\site-packages (from cycler>=0.10->matplotlib) (1.16.0)\n",
      "Installing collected packages: pillow, kiwisolver, cycler, matplotlib\n",
      "Successfully installed cycler-0.10.0 kiwisolver-1.3.1 matplotlib-3.4.2 pillow-8.3.1\n",
      "Note: you may need to restart the kernel to use updated packages.\n"
     ]
    }
   ],
   "source": [
    "pip install matplotlib"
   ]
  },
  {
   "cell_type": "code",
   "execution_count": 1,
   "id": "0c1d364f-2524-4e1c-a04d-02fa3ea1a922",
   "metadata": {},
   "outputs": [],
   "source": [
    "import cv2"
   ]
  },
  {
   "cell_type": "code",
   "execution_count": 2,
   "id": "df6e4d84-5c43-4dcb-9e48-e71e93fb9425",
   "metadata": {},
   "outputs": [
    {
     "name": "stdout",
     "output_type": "stream",
     "text": [
      "C:\\Users\\matia\n"
     ]
    }
   ],
   "source": [
    "cd"
   ]
  },
  {
   "cell_type": "code",
   "execution_count": 2,
   "id": "55e2a634-e4c8-4690-8438-402ffcf6b338",
   "metadata": {},
   "outputs": [],
   "source": [
    "img=cv2.imread('C:/Users/matia/Proyectos/patato.jpg')"
   ]
  },
  {
   "cell_type": "code",
   "execution_count": 13,
   "id": "ffb58170-4ca0-4a51-9457-9bd3f671634e",
   "metadata": {},
   "outputs": [
    {
     "name": "stdout",
     "output_type": "stream",
     "text": [
      "[[[ 35  42  62]\n",
      "  [ 37  44  64]\n",
      "  [ 40  47  67]\n",
      "  ...\n",
      "  [ 80 166 218]\n",
      "  [ 82 171 222]\n",
      "  [ 85 174 225]]\n",
      "\n",
      " [[ 39  49  73]\n",
      "  [ 41  51  75]\n",
      "  [ 44  54  78]\n",
      "  ...\n",
      "  [ 78 162 214]\n",
      "  [ 78 164 216]\n",
      "  [ 79 165 217]]\n",
      "\n",
      " [[ 41  59  88]\n",
      "  [ 43  61  90]\n",
      "  [ 46  64  93]\n",
      "  ...\n",
      "  [ 75 155 208]\n",
      "  [ 76 156 209]\n",
      "  [ 77 157 210]]\n",
      "\n",
      " ...\n",
      "\n",
      " [[ 53 145 194]\n",
      "  [ 44 136 185]\n",
      "  [ 39 132 181]\n",
      "  ...\n",
      "  [ 30  77 131]\n",
      "  [ 30  77 133]\n",
      "  [ 27  76 132]]\n",
      "\n",
      " [[ 47 139 188]\n",
      "  [ 37 129 178]\n",
      "  [ 33 126 175]\n",
      "  ...\n",
      "  [ 34  81 135]\n",
      "  [ 33  80 136]\n",
      "  [ 31  80 136]]\n",
      "\n",
      " [[ 47 139 188]\n",
      "  [ 37 129 178]\n",
      "  [ 33 126 175]\n",
      "  ...\n",
      "  [ 34  81 135]\n",
      "  [ 33  80 136]\n",
      "  [ 31  80 136]]]\n"
     ]
    }
   ],
   "source": [
    "print(img)"
   ]
  },
  {
   "cell_type": "code",
   "execution_count": 3,
   "id": "0dbf3387-5c8f-4a24-a55e-283671e72fff",
   "metadata": {},
   "outputs": [
    {
     "data": {
      "text/plain": [
       "-1"
      ]
     },
     "execution_count": 3,
     "metadata": {},
     "output_type": "execute_result"
    }
   ],
   "source": [
    "cv2.imshow('1',img)\n",
    "cv2.waitKey(0)"
   ]
  },
  {
   "cell_type": "markdown",
   "id": "ea76f53d-18d6-436c-abbe-53067cd9d357",
   "metadata": {},
   "source": [
    "LEO VIDEO"
   ]
  },
  {
   "cell_type": "code",
   "execution_count": null,
   "id": "9c27a675-dfaa-47ee-b669-e190b7c4157d",
   "metadata": {},
   "outputs": [],
   "source": [
    "#lectura de video\n",
    "capture= cv2.VideoCapture('C:/Users/matia/Proyectos/videogente.mp4')\n",
    "#leo video\n",
    "while True:\n",
    "    isTrue, frame =capture.read() \n",
    "    cv2.imshow('video', frame)\n",
    "    \n",
    "    if cv2.waitKey(20) & 0xFF==ord('d'):\n",
    "        break\n",
    "capture.release()\n",
    "cv2.destroyAllWindows()"
   ]
  },
  {
   "cell_type": "markdown",
   "id": "64530480-c919-4a32-8fb6-ece3b17ca766",
   "metadata": {},
   "source": [
    "RESCALAR VIDEO"
   ]
  },
  {
   "cell_type": "code",
   "execution_count": 3,
   "id": "de575ef5-7e87-4e2e-aa81-ea4147b57320",
   "metadata": {},
   "outputs": [],
   "source": [
    "# rescalar video\n",
    "\n",
    "# difino funcion\n",
    "def rescaleFrame (frame,scale=0.75):\n",
    "    width = int(frame.shape[1]+scale)\n",
    "    height = int(frame.shape[0]+scale)\n",
    "    dimen = (width, height)\n",
    "    \n",
    "    return cv2.resize(frame,dimen, interpolation=cv2.INTER_AREA)"
   ]
  },
  {
   "cell_type": "code",
   "execution_count": 4,
   "id": "a535f80c-39ff-4a8b-bde2-2e8c8ff00644",
   "metadata": {},
   "outputs": [],
   "source": [
    "# vuelvo a leer el video\n",
    "capture= cv2.VideoCapture('C:/Users/matia/Proyectos/videogente.mp4')\n",
    "#leo video\n",
    "while True:\n",
    "    isTrue, frame =capture.read() \n",
    "    frame_resize = rescaleFrame(frame)\n",
    "    \n",
    "    cv2.imshow('video_rescale', frame_resize)\n",
    "    cv2.imshow('video', frame)\n",
    "    \n",
    "    if cv2.waitKey(20) & 0xFF==ord('d'):\n",
    "        break\n",
    "capture.release()\n",
    "cv2.destroyAllWindows()"
   ]
  },
  {
   "cell_type": "markdown",
   "id": "802e4ab1-eb47-454c-bb34-3d3060015c7a",
   "metadata": {},
   "source": [
    "CAMBIO DE RESOLUCION\n",
    "\n"
   ]
  },
  {
   "cell_type": "code",
   "execution_count": null,
   "id": "72244595-d746-49de-b937-039af59ffb9b",
   "metadata": {},
   "outputs": [],
   "source": [
    "def changeRes(width, height):\n",
    "    capture.set(3,width)\n",
    "    capture.set(4,height)"
   ]
  },
  {
   "cell_type": "markdown",
   "id": "93895bc5-afb1-49e0-a71a-cee20fb843c2",
   "metadata": {},
   "source": [
    "DIBUJAR Y ESCRIBIR UNA IMAGEN"
   ]
  },
  {
   "cell_type": "code",
   "execution_count": 3,
   "id": "ad2f6d73-689b-46ff-8cb8-7d4f90323bc3",
   "metadata": {},
   "outputs": [],
   "source": [
    "import cv2\n",
    "import numpy as np"
   ]
  },
  {
   "cell_type": "code",
   "execution_count": 21,
   "id": "1a07fb82-4431-44b6-8963-7a145aa4c579",
   "metadata": {},
   "outputs": [],
   "source": [
    "#imagen vacia\n",
    "blank =np.zeros((500,500,3), dtype='uint8')"
   ]
  },
  {
   "cell_type": "code",
   "execution_count": 3,
   "id": "871b57a5-d292-4330-9343-ddcf801e6157",
   "metadata": {},
   "outputs": [
    {
     "data": {
      "text/plain": [
       "-1"
      ]
     },
     "execution_count": 3,
     "metadata": {},
     "output_type": "execute_result"
    }
   ],
   "source": [
    "cv2.imshow('blank',blank)\n",
    "cv2.waitKey()"
   ]
  },
  {
   "cell_type": "code",
   "execution_count": 6,
   "id": "a70393d4-0ae9-408a-a1d7-6a2e10e80174",
   "metadata": {},
   "outputs": [
    {
     "data": {
      "text/plain": [
       "-1"
      ]
     },
     "execution_count": 6,
     "metadata": {},
     "output_type": "execute_result"
    }
   ],
   "source": [
    "# pinto de un color\n",
    "blank[:] = 0,255,0\n",
    "cv2.imshow('green', blank)\n",
    "cv2.waitKey()\n"
   ]
  },
  {
   "cell_type": "code",
   "execution_count": 7,
   "id": "3298f7d3-f178-4094-9b74-442ca029857f",
   "metadata": {},
   "outputs": [
    {
     "data": {
      "text/plain": [
       "-1"
      ]
     },
     "execution_count": 7,
     "metadata": {},
     "output_type": "execute_result"
    }
   ],
   "source": [
    "# figura de otro color\n",
    "blank[200:300,300:400]= 0,0,255\n",
    "cv2.imshow('rectengulo',blank)\n",
    "cv2.waitKey()"
   ]
  },
  {
   "cell_type": "code",
   "execution_count": 11,
   "id": "6f34ad6a-2e5e-4b73-885b-054772b7e884",
   "metadata": {},
   "outputs": [
    {
     "data": {
      "text/plain": [
       "-1"
      ]
     },
     "execution_count": 11,
     "metadata": {},
     "output_type": "execute_result"
    }
   ],
   "source": [
    "#rectangulo\n",
    "cv2.rectangle(blank, (0,0), (250,250), (0,255,0), -1)\n",
    "# (imagen base, vertice inicial, vertice final, color, ancho)\n",
    "# el ancho -1 lo rellena\n",
    "cv2.imshow('rectangulo', blank)\n",
    "cv2.waitKey()\n"
   ]
  },
  {
   "cell_type": "code",
   "execution_count": 14,
   "id": "91e0877a-2f3a-4ef0-8f63-38b0178bf885",
   "metadata": {},
   "outputs": [
    {
     "data": {
      "text/plain": [
       "-1"
      ]
     },
     "execution_count": 14,
     "metadata": {},
     "output_type": "execute_result"
    }
   ],
   "source": [
    "#circulo \n",
    "\n",
    "cv2.circle(blank, (blank.shape[0]//2,blank.shape[1]//2) , 15 , (0,0,255), -1 )\n",
    "# (imagenbase,centro, radio, color, grosor)\n",
    "cv2.imshow('circulo', blank)\n",
    "cv2.waitKey()"
   ]
  },
  {
   "cell_type": "code",
   "execution_count": 17,
   "id": "f99ccd06-c547-430f-ad5f-3ae2d4f1ccc9",
   "metadata": {},
   "outputs": [
    {
     "data": {
      "text/plain": [
       "-1"
      ]
     },
     "execution_count": 17,
     "metadata": {},
     "output_type": "execute_result"
    }
   ],
   "source": [
    "# linea\n",
    "\n",
    "cv2.line(blank, (0,0), (blank.shape[0]//2,blank.shape[1]//2), (0,0,255), 3 )\n",
    "# (imagenbase, p_inicio, p_fin, color, grosor)\n",
    "cv2.imshow('linea', blank)\n",
    "cv2.waitKey()"
   ]
  },
  {
   "cell_type": "code",
   "execution_count": 22,
   "id": "d69e8054-7f7f-4f43-b48a-b0b9fea05833",
   "metadata": {},
   "outputs": [
    {
     "data": {
      "text/plain": [
       "-1"
      ]
     },
     "execution_count": 22,
     "metadata": {},
     "output_type": "execute_result"
    }
   ],
   "source": [
    "# texto \n",
    "\n",
    "cv2.putText(blank, 'LA TITI RATA', (120,255), cv2.FONT_HERSHEY_TRIPLEX, 1.0, (255,0,0), 2)\n",
    "cv2.imshow('text', blank)\n",
    "cv2.waitKey()"
   ]
  },
  {
   "cell_type": "markdown",
   "id": "c2773c83-07f0-4878-917a-67fa13a07567",
   "metadata": {},
   "source": [
    "FUNCIONES BASICAS"
   ]
  },
  {
   "cell_type": "code",
   "execution_count": 34,
   "id": "960360ec-c65c-4164-a345-ce042c099b02",
   "metadata": {},
   "outputs": [
    {
     "data": {
      "text/plain": [
       "-1"
      ]
     },
     "execution_count": 34,
     "metadata": {},
     "output_type": "execute_result"
    }
   ],
   "source": [
    "# imagenes a escala de grises\n",
    "img=cv2.imread('C:/Users/matia/Proyectos/Opencv/5.png')\n",
    "gray = cv2.cvtColor(img, cv2.COLOR_BGR2GRAY)\n",
    "cv2.imshow('gray', gray)\n",
    "cv2.waitKey(0)"
   ]
  },
  {
   "cell_type": "code",
   "execution_count": 27,
   "id": "ba0b12ac-2637-46de-902c-a948be05c116",
   "metadata": {},
   "outputs": [
    {
     "data": {
      "text/plain": [
       "-1"
      ]
     },
     "execution_count": 27,
     "metadata": {},
     "output_type": "execute_result"
    }
   ],
   "source": [
    "# difuminar imagen\n",
    "blur = cv2.GaussianBlur(img, (3,3), cv2.BORDER_DEFAULT)\n",
    "cv2.imshow('blur', blur)\n",
    "cv2.waitKey(0)"
   ]
  },
  {
   "cell_type": "code",
   "execution_count": 73,
   "id": "cd6bd017-dadb-488f-bbcd-7ab727555a01",
   "metadata": {},
   "outputs": [
    {
     "data": {
      "text/plain": [
       "-1"
      ]
     },
     "execution_count": 73,
     "metadata": {},
     "output_type": "execute_result"
    }
   ],
   "source": [
    "# borde\n",
    "canny = cv2.Canny(resized, 60, 60)\n",
    "cv2.imshow('borde', canny)\n",
    "cv2.waitKey(0)"
   ]
  },
  {
   "cell_type": "code",
   "execution_count": 24,
   "id": "b77d05c3-6a7f-4fcc-aa7e-d161a8a36644",
   "metadata": {},
   "outputs": [],
   "source": [
    "#resize\n",
    "resized = cv2.resize(img, (800,500), interpolation=cv2.INTER_CUBIC)\n",
    "#cv2.imshow('Resized', resized)\n",
    "#cv2.waitKey(1)"
   ]
  },
  {
   "cell_type": "code",
   "execution_count": 37,
   "id": "a9e9cc86-93cc-40ba-9f82-f651c7f10e85",
   "metadata": {},
   "outputs": [
    {
     "data": {
      "text/plain": [
       "-1"
      ]
     },
     "execution_count": 37,
     "metadata": {},
     "output_type": "execute_result"
    }
   ],
   "source": [
    "# recorte\n",
    "cropped = img[50:200, 200:400]\n",
    "cv2.imshow('recorte', cropped)\n",
    "cv2.waitKey(0)"
   ]
  },
  {
   "cell_type": "markdown",
   "id": "a268838b-4601-437b-b788-7cdcc32c61af",
   "metadata": {},
   "source": [
    "TRASFORMACIONES BASICAS"
   ]
  },
  {
   "cell_type": "code",
   "execution_count": 2,
   "id": "630b4085-f6b3-4230-9cb2-234be6a8b2ff",
   "metadata": {},
   "outputs": [],
   "source": [
    "def translate (img, x, y):\n",
    "    transMat = np.float32([[1,0,x], [0,1,y]])\n",
    "    dimensions = (img.shape[1], img.shape[0])\n",
    "    return cv2.warpAffine(img, transMat, dimensions)"
   ]
  },
  {
   "cell_type": "code",
   "execution_count": 5,
   "id": "ccf059d3-f08f-4854-a407-c72bd0904300",
   "metadata": {},
   "outputs": [
    {
     "data": {
      "text/plain": [
       "-1"
      ]
     },
     "execution_count": 5,
     "metadata": {},
     "output_type": "execute_result"
    }
   ],
   "source": [
    "translated=translate(img,100,100)\n",
    "cv2.imshow('translated',translated)\n",
    "cv2.waitKey(0)"
   ]
  },
  {
   "cell_type": "code",
   "execution_count": 38,
   "id": "5fffcd05-40d6-4490-8534-a75bee7cd0b1",
   "metadata": {},
   "outputs": [],
   "source": [
    "# rotar\n",
    "def rotate(img, angle, rotPoint=None):\n",
    "    (h,w)=img.shape[:2]\n",
    "    \n",
    "    if rotPoint is None:\n",
    "        rotPoint = (w//2, h//2)\n",
    "    \n",
    "    rotMat = cv2.getRotationMatrix2D(rotPoint, angle, 1.0)\n",
    "    dimension = (w, h)\n",
    "    \n",
    "    return cv2.warpAffine(img, rotMat, dimension)\n"
   ]
  },
  {
   "cell_type": "code",
   "execution_count": 39,
   "id": "a2e81ce5-1629-41ad-b377-760483fb47f4",
   "metadata": {},
   "outputs": [
    {
     "data": {
      "text/plain": [
       "-1"
      ]
     },
     "execution_count": 39,
     "metadata": {},
     "output_type": "execute_result"
    }
   ],
   "source": [
    "rotated = rotate(img, 45)\n",
    "cv2.imshow('rotar', rotated)\n",
    "cv2.waitKey(0)"
   ]
  },
  {
   "cell_type": "code",
   "execution_count": 43,
   "id": "c5dd378b-dabd-42ca-a728-721aa8330fb2",
   "metadata": {},
   "outputs": [],
   "source": [
    "#resizes\n",
    "resized = cv2.resize(frame, (500,500), interpolation=cv2.INTER_CUBIC)\n",
    "#cv2.imshow('resize', resized)\n",
    "#cv2.waitKey(0)"
   ]
  },
  {
   "cell_type": "code",
   "execution_count": 44,
   "id": "75424d77-8638-4036-8890-fbdceff82ee1",
   "metadata": {},
   "outputs": [
    {
     "data": {
      "text/plain": [
       "-1"
      ]
     },
     "execution_count": 44,
     "metadata": {},
     "output_type": "execute_result"
    }
   ],
   "source": [
    "#flipping\n",
    "flip =cv2.flip(resized, 1)\n",
    "cv2.imshow('flip', flip)\n",
    "cv2.waitKey(0)"
   ]
  },
  {
   "cell_type": "markdown",
   "id": "5990051b-6c31-4163-ad08-f174ce1fd111",
   "metadata": {},
   "source": [
    "CONTORNOS"
   ]
  },
  {
   "cell_type": "code",
   "execution_count": 3,
   "id": "4bc9f628-26e0-452f-a30e-59fe93fbd57a",
   "metadata": {},
   "outputs": [
    {
     "name": "stdout",
     "output_type": "stream",
     "text": [
      "1973 contornos encontrados\n"
     ]
    },
    {
     "data": {
      "text/plain": [
       "-1"
      ]
     },
     "execution_count": 3,
     "metadata": {},
     "output_type": "execute_result"
    }
   ],
   "source": [
    "import cv2\n",
    "\n",
    "# contraste\n",
    "img=cv2.imread('C:/Users/matia/Proyectos/Opencv/5.png')\n",
    "resized = cv2.resize(img, (800,500), interpolation=cv2.INTER_CUBIC)\n",
    "#\n",
    "blur = cv2.GaussianBlur(resized, (3,3), cv2.BORDER_DEFAULT)\n",
    "canny = cv2.Canny(blur, 50, 50)\n",
    "gray = cv2.cvtColor(resized, cv2.COLOR_BGR2GRAY)\n",
    "ret, thresh = cv2.threshold(gray, 60, 200, cv2.THRESH_BINARY)\n",
    "\n",
    "contours, hierarchies = cv2.findContours(canny, cv2.RETR_LIST, cv2.CHAIN_APPROX_SIMPLE)\n",
    "print(str(len(contours)) + ' contornos encontrados')\n",
    "\n",
    "cv2.imshow('a', thresh)\n",
    "cv2.imshow('c', canny)\n",
    "cv2.waitKey(0)"
   ]
  },
  {
   "cell_type": "code",
   "execution_count": 4,
   "id": "6b35bb68-5c55-4af7-b98b-5207c01da2e2",
   "metadata": {},
   "outputs": [],
   "source": [
    "import numpy as np"
   ]
  },
  {
   "cell_type": "code",
   "execution_count": 5,
   "id": "a1abdebf-b42e-42cd-ab3b-d0dabd342af9",
   "metadata": {},
   "outputs": [],
   "source": [
    "blank =np.zeros((500,800,3), dtype='uint8')"
   ]
  },
  {
   "cell_type": "code",
   "execution_count": 6,
   "id": "d2ccffed-7b62-4db3-9d57-ebb25e3280bf",
   "metadata": {},
   "outputs": [
    {
     "data": {
      "text/plain": [
       "-1"
      ]
     },
     "execution_count": 6,
     "metadata": {},
     "output_type": "execute_result"
    }
   ],
   "source": [
    "# grafico bordes\n",
    "\n",
    "draw=cv2.drawContours(blank, contours, -1, (255, 255, 255), 1 )\n",
    "cv2.imshow('a', draw)\n",
    "cv2.waitKey(0)"
   ]
  },
  {
   "cell_type": "markdown",
   "id": "a773413d-1cb5-46d4-a16d-8a954141b0a7",
   "metadata": {},
   "source": [
    "COLOR SPACES"
   ]
  },
  {
   "cell_type": "code",
   "execution_count": 8,
   "id": "fc4062f7-217b-42b4-861d-eeadb4b03eec",
   "metadata": {},
   "outputs": [
    {
     "data": {
      "text/plain": [
       "-1"
      ]
     },
     "execution_count": 8,
     "metadata": {},
     "output_type": "execute_result"
    }
   ],
   "source": [
    "# bgh to hsv\n",
    "resized = cv2.resize(img, (800,500), interpolation=cv2.INTER_CUBIC)\n",
    "hsv = cv2.cvtColor(resized, cv2.COLOR_BGR2HSV)\n",
    "cv2.imshow('a', hsv)\n",
    "cv2.waitKey(0)"
   ]
  },
  {
   "cell_type": "code",
   "execution_count": 111,
   "id": "454533f4-3cd1-4d5b-8a4b-c4c09b6a2cef",
   "metadata": {},
   "outputs": [
    {
     "data": {
      "text/plain": [
       "-1"
      ]
     },
     "execution_count": 111,
     "metadata": {},
     "output_type": "execute_result"
    }
   ],
   "source": [
    "# bgh to LAB\n",
    "lab = cv2.cvtColor(resized, cv2.COLOR_BGR2LAB)\n",
    "cv2.imshow('a', lab)\n",
    "cv2.waitKey(0)"
   ]
  },
  {
   "cell_type": "markdown",
   "id": "8041bfbc-6fe8-4f2c-99fd-0e8a842fb97e",
   "metadata": {},
   "source": [
    "COLOR CHANNELS"
   ]
  },
  {
   "cell_type": "code",
   "execution_count": 112,
   "id": "fb761458-2703-4064-8d10-507a36009ac3",
   "metadata": {},
   "outputs": [
    {
     "data": {
      "text/plain": [
       "-1"
      ]
     },
     "execution_count": 112,
     "metadata": {},
     "output_type": "execute_result"
    }
   ],
   "source": [
    "resized = cv2.resize(img, (800,500), interpolation=cv2.INTER_CUBIC)\n",
    "\n",
    "b,g,r = cv2.split(resized)\n",
    "\n",
    "cv2.imshow('blue', b)\n",
    "cv2.imshow('red', r)\n",
    "cv2.imshow('green', g)\n",
    "cv2.waitKey(0)"
   ]
  },
  {
   "cell_type": "markdown",
   "id": "a0cc0b8a-ab55-4136-b431-f5179a528596",
   "metadata": {},
   "source": [
    "BLURRING TECHNIQUES"
   ]
  },
  {
   "cell_type": "code",
   "execution_count": 113,
   "id": "4a7effdf-32f3-4aad-88dc-95854d436d36",
   "metadata": {},
   "outputs": [
    {
     "data": {
      "text/plain": [
       "-1"
      ]
     },
     "execution_count": 113,
     "metadata": {},
     "output_type": "execute_result"
    }
   ],
   "source": [
    "average =cv2.blur(resized, (3,3))\n",
    "cv2.imshow('blue', average)\n",
    "cv2.waitKey(0)"
   ]
  },
  {
   "cell_type": "code",
   "execution_count": 114,
   "id": "0401e124-3ee8-4f1e-9a98-3b9fb218855d",
   "metadata": {},
   "outputs": [
    {
     "data": {
      "text/plain": [
       "-1"
      ]
     },
     "execution_count": 114,
     "metadata": {},
     "output_type": "execute_result"
    }
   ],
   "source": [
    "gauss = cv2.GaussianBlur(resized, (3,3), 0)\n",
    "cv2.imshow('blue', gauss)\n",
    "cv2.waitKey(0)"
   ]
  },
  {
   "cell_type": "code",
   "execution_count": 115,
   "id": "d42de036-0ad3-4ffc-a183-4a1cf47d5005",
   "metadata": {},
   "outputs": [
    {
     "data": {
      "text/plain": [
       "98"
      ]
     },
     "execution_count": 115,
     "metadata": {},
     "output_type": "execute_result"
    }
   ],
   "source": [
    "median = cv2.medianBlur(resized, 3)\n",
    "cv2.imshow('blue', median)\n",
    "cv2.waitKey(0)"
   ]
  },
  {
   "cell_type": "code",
   "execution_count": 12,
   "id": "1bb5f420-02ad-497d-9fcd-067f92290469",
   "metadata": {},
   "outputs": [
    {
     "data": {
      "text/plain": [
       "-1"
      ]
     },
     "execution_count": 12,
     "metadata": {},
     "output_type": "execute_result"
    }
   ],
   "source": [
    "bilateral = cv2.bilateralFilter(resized, 10, 5, 15)\n",
    "cv2.imshow('blue', bilateral)\n",
    "cv2.waitKey(0)"
   ]
  },
  {
   "cell_type": "markdown",
   "id": "29bb022e-1519-4d89-af25-9dc0e2e1dba3",
   "metadata": {},
   "source": [
    "BITWISE OPERATIONS"
   ]
  },
  {
   "cell_type": "code",
   "execution_count": 1,
   "id": "8144fb94-97f1-42f6-87c7-6aeb6b0db53b",
   "metadata": {},
   "outputs": [],
   "source": [
    "import cv2 as cv\n",
    "import numpy as np"
   ]
  },
  {
   "cell_type": "code",
   "execution_count": 2,
   "id": "91999dc6-f871-4f01-9b07-cd96ad1ea891",
   "metadata": {},
   "outputs": [
    {
     "data": {
      "text/plain": [
       "-1"
      ]
     },
     "execution_count": 2,
     "metadata": {},
     "output_type": "execute_result"
    }
   ],
   "source": [
    "blank= np.zeros((400,400), dtype='uint8')\n",
    "rectangle= cv.rectangle(blank.copy(), (30,30), (370,370), 255, -1)\n",
    "circle = cv.circle(blank.copy(), (200,200), 200, 255,  -1)\n",
    "\n",
    "cv.imshow('rectangulo', rectangle)\n",
    "cv.imshow('circulo', circle)\n",
    "cv.waitKey(0)"
   ]
  },
  {
   "cell_type": "code",
   "execution_count": null,
   "id": "24ac997e-66aa-4f00-a1d0-d3ca96717ad0",
   "metadata": {},
   "outputs": [],
   "source": [
    "# AND\n",
    "\n",
    "bitwise_and=cv.bitwise_and(rectangle, circle)\n",
    "cv.imshow('1', bitwise_and)\n",
    "cv.waitKey(0)"
   ]
  },
  {
   "cell_type": "code",
   "execution_count": null,
   "id": "5c60868c-cd41-4891-8a88-9f6a74f8d7b7",
   "metadata": {},
   "outputs": [],
   "source": [
    "# OR\n",
    "\n",
    "bitwise_or=cv.bitwise_or(rectangle, circle)\n",
    "cv.imshow('1', bitwise_or)\n",
    "cv.waitKey(0)"
   ]
  },
  {
   "cell_type": "code",
   "execution_count": null,
   "id": "bc37b369-c370-4d17-bbb2-a2b141e8d0bf",
   "metadata": {},
   "outputs": [],
   "source": [
    "# XOR\n",
    "\n",
    "bitwise_xor=cv.bitwise_xor(rectangle, circle)\n",
    "cv.imshow('1', bitwise_xor)\n",
    "cv.waitKey(0)"
   ]
  },
  {
   "cell_type": "code",
   "execution_count": 3,
   "id": "01f9456c-3c24-4ac2-bc82-6ef80f8d5778",
   "metadata": {},
   "outputs": [
    {
     "data": {
      "text/plain": [
       "-1"
      ]
     },
     "execution_count": 3,
     "metadata": {},
     "output_type": "execute_result"
    }
   ],
   "source": [
    "# NOT\n",
    "\n",
    "bitwise_not=cv.bitwise_not(rectangle, circle)\n",
    "cv.imshow('1', bitwise_not)\n",
    "cv.waitKey(0)"
   ]
  },
  {
   "cell_type": "markdown",
   "id": "9fdc00e5-b500-4580-878c-6c3d2e1c7db9",
   "metadata": {},
   "source": [
    "MASKING: recorta una parte importante de la imagen haciendo and"
   ]
  },
  {
   "cell_type": "code",
   "execution_count": 5,
   "id": "c874839d-4dd6-408c-8332-8ab57882f52d",
   "metadata": {},
   "outputs": [],
   "source": [
    "import cv2 as cv\n",
    "import numpy as np"
   ]
  },
  {
   "cell_type": "code",
   "execution_count": 7,
   "id": "d48838e9-4e6a-4f1e-8a77-6a4a5f285528",
   "metadata": {},
   "outputs": [],
   "source": [
    "img=cv.imread('C:/Users/matia/Proyectos/Opencv/5.png')\n",
    "rimg = cv.resize(img, (800,500), interpolation=cv.INTER_CUBIC)\n",
    "blank =np.zeros(rimg.shape[:2],dtype='uint8')\n"
   ]
  },
  {
   "cell_type": "code",
   "execution_count": 11,
   "id": "a83437b4-8b46-4bb2-bf48-f0c166fcbc32",
   "metadata": {},
   "outputs": [],
   "source": [
    "mask= cv.circle(blank, (rimg.shape[1]//2, rimg.shape[0]//2), 100, 255, -1)"
   ]
  },
  {
   "cell_type": "code",
   "execution_count": 13,
   "id": "94232321-f0f5-492b-89c8-5d90924b7381",
   "metadata": {},
   "outputs": [],
   "source": [
    "masked = cv.bitwise_and(rimg,rimg, mask=mask)"
   ]
  },
  {
   "cell_type": "code",
   "execution_count": 14,
   "id": "c2c68e56-839c-4a53-93ca-e0eed33070d9",
   "metadata": {},
   "outputs": [
    {
     "data": {
      "text/plain": [
       "-1"
      ]
     },
     "execution_count": 14,
     "metadata": {},
     "output_type": "execute_result"
    }
   ],
   "source": [
    "cv.imshow('1',masked)\n",
    "cv.waitKey(0)"
   ]
  },
  {
   "cell_type": "markdown",
   "id": "5735700c-1ef5-4459-bfdc-9d98777a238c",
   "metadata": {},
   "source": [
    "HISTOGRAMS: muestra la distribucion de intensidad de los pixeles"
   ]
  },
  {
   "cell_type": "code",
   "execution_count": 1,
   "id": "80e1db1a-c6f6-497d-bc56-24e26f42366e",
   "metadata": {},
   "outputs": [],
   "source": [
    "import cv2 as cv\n",
    "import numpy as np\n",
    "import matplotlib.pyplot as plt\n",
    "img=cv.imread('C:/Users/matia/Proyectos/Opencv/5.png')\n",
    "rimg = cv.resize(img, (800,500), interpolation=cv.INTER_CUBIC)\n"
   ]
  },
  {
   "cell_type": "code",
   "execution_count": 2,
   "id": "0f20e8af-460f-4c74-9f43-af715d9798cb",
   "metadata": {},
   "outputs": [
    {
     "data": {
      "text/plain": [
       "-1"
      ]
     },
     "execution_count": 2,
     "metadata": {},
     "output_type": "execute_result"
    }
   ],
   "source": [
    "gray = cv.cvtColor(rimg, cv.COLOR_BGR2GRAY)\n",
    "cv.imshow('1', gray)\n",
    "cv.waitKey(0)"
   ]
  },
  {
   "cell_type": "code",
   "execution_count": 6,
   "id": "b9bd2013-5523-489a-834d-14e1b8f525e0",
   "metadata": {},
   "outputs": [],
   "source": [
    "gray_hist = cv.calcHist([gray], [0], None, [256], [0,256])"
   ]
  },
  {
   "cell_type": "code",
   "execution_count": 7,
   "id": "e11e2d81-3970-4def-aedb-21308db1d017",
   "metadata": {},
   "outputs": [
    {
     "data": {
      "text/plain": [
       "<Figure size 640x480 with 0 Axes>"
      ]
     },
     "metadata": {},
     "output_type": "display_data"
    },
    {
     "data": {
      "image/png": "[encoded data removed]",
      "text/plain": [
       "<Figure size 640x480 with 1 Axes>"
      ]
     },
     "metadata": {},
     "output_type": "display_data"
    },
    {
     "data": {
      "image/png": "[encoded data removed]",
      "text/plain": [
       "<Figure size 640x480 with 1 Axes>"
      ]
     },
     "metadata": {},
     "output_type": "display_data"
    }
   ],
   "source": [
    "plt.figure()\n",
    "plt.title('grayscale Histogram')\n",
    "plt.xlabel('Bins')\n",
    "plt.ylabel('num of pixels')\n",
    "plt.plot(gray_hist)\n",
    "plt.xlim([0,256])\n",
    "plt.show()\n"
   ]
  },
  {
   "cell_type": "code",
   "execution_count": 9,
   "id": "600ba69f-80fc-4c5b-a4ad-4307ef2bb487",
   "metadata": {},
   "outputs": [],
   "source": [
    "blank = np.zeros(rimg.shape[:2], dtype= 'uint8')"
   ]
  },
  {
   "cell_type": "code",
   "execution_count": 15,
   "id": "c4ee892c-8e3b-41f9-be3a-7b2c20e2c787",
   "metadata": {},
   "outputs": [
    {
     "data": {
      "text/plain": [
       "-1"
      ]
     },
     "execution_count": 15,
     "metadata": {},
     "output_type": "execute_result"
    }
   ],
   "source": [
    "circle = cv.circle(blank, (rimg.shape[1]//2, rimg.shape[0]//2), 100, 255, -1)\n",
    "mask = cv.bitwise_and(gray, gray, mask=circle)\n",
    "cv.imshow('1', mask)\n",
    "cv.waitKey(0)"
   ]
  },
  {
   "cell_type": "code",
   "execution_count": 11,
   "id": "bb8fbf98-d84a-4fcf-9c00-f6c0967927d1",
   "metadata": {},
   "outputs": [],
   "source": [
    "gray_hist = cv.calcHist([gray], [0], mask, [256], [0,256])"
   ]
  },
  {
   "cell_type": "code",
   "execution_count": 14,
   "id": "6201acb8-f652-4751-b843-41d5a3cc7f8d",
   "metadata": {},
   "outputs": [
    {
     "data": {
      "image/png": "[encoded data removed]",
      "text/plain": [
       "<Figure size 640x480 with 1 Axes>"
      ]
     },
     "metadata": {},
     "output_type": "display_data"
    }
   ],
   "source": [
    "plt.figure()\n",
    "plt.title('grayscale Histogram')\n",
    "plt.xlabel('Bins')\n",
    "plt.ylabel('num of pixels')\n",
    "plt.plot(gray_hist)\n",
    "plt.xlim([0,256])\n",
    "plt.show()\n"
   ]
  },
  {
   "cell_type": "code",
   "execution_count": 16,
   "id": "0758f24c-6db9-4805-87de-bba80934fb9e",
   "metadata": {},
   "outputs": [
    {
     "data": {
      "image/png": "[encoded data removed]",
      "text/plain": [
       "<Figure size 640x480 with 1 Axes>"
      ]
     },
     "metadata": {},
     "output_type": "display_data"
    }
   ],
   "source": [
    "# coor Hist\n",
    "\n",
    "plt.figure()\n",
    "plt.title('color hist')\n",
    "plt.xlabel('Bins')\n",
    "plt.ylabel('num of pixels')\n",
    "colors = ('b', 'g', 'r')\n",
    "for i,col in enumerate(colors):\n",
    "    hist=cv.calcHist([rimg], [i], None, [256], [0,256])\n",
    "    plt.plot(hist, color=col)\n",
    "    plt.xlim([0,256])\n",
    "plt.show()"
   ]
  },
  {
   "cell_type": "markdown",
   "id": "973d8025-173a-4f13-9e4d-f4e73f717bdc",
   "metadata": {},
   "source": [
    "Thresholding: convierto la img a binario deonde un pixel 0 en negro y 255 es blanco, luego comparo pixeles con umbrales"
   ]
  },
  {
   "cell_type": "code",
   "execution_count": 8,
   "id": "250f22f0-68dd-487c-9fdb-8aca01abc3b5",
   "metadata": {},
   "outputs": [
    {
     "data": {
      "text/plain": [
       "-1"
      ]
     },
     "execution_count": 8,
     "metadata": {},
     "output_type": "execute_result"
    }
   ],
   "source": [
    "import cv2 as cv\n",
    "import numpy as np\n",
    "import matplotlib.pyplot as plt\n",
    "img=cv.imread('C:/Users/matia/Proyectos/Opencv/5.png')\n",
    "rimg = cv.resize(img, (800,500), interpolation = cv.INTER_CUBIC)\n",
    "gray = cv.cvtColor(rimg, cv.COLOR_BGR2GRAY)\n",
    "cv.imshow('1', gray)\n",
    "cv.waitKey(0)"
   ]
  },
  {
   "cell_type": "code",
   "execution_count": 9,
   "id": "f4ab996b-bd67-469b-9b99-2cb77e36c5d5",
   "metadata": {},
   "outputs": [
    {
     "data": {
      "text/plain": [
       "-1"
      ]
     },
     "execution_count": 9,
     "metadata": {},
     "output_type": "execute_result"
    }
   ],
   "source": [
    "# simple \n",
    "threshold, thresh =cv.threshold(gray, 60, 255, cv.THRESH_BINARY)\n",
    "threshold, thresh_inv =cv.threshold(gray, 60, 255, cv.THRESH_BINARY_INV)\n",
    "\n",
    "cv.imshow('1',thresh)\n",
    "cv.imshow('2',thresh_inv)\n",
    "cv.waitKey(0)"
   ]
  },
  {
   "cell_type": "code",
   "execution_count": 6,
   "id": "13325d9f-e966-463a-ad1e-f49f74a572f0",
   "metadata": {},
   "outputs": [
    {
     "data": {
      "text/plain": [
       "-1"
      ]
     },
     "execution_count": 6,
     "metadata": {},
     "output_type": "execute_result"
    }
   ],
   "source": [
    "# adaptive\n",
    "adap_thresh = cv.adaptiveThreshold(gray, 255, cv.ADAPTIVE_THRESH_MEAN_C, cv.THRESH_BINARY_INV, 11 , 5)\n",
    "cv.imshow('3', adap_thresh)\n",
    "cv.waitKey(0)"
   ]
  },
  {
   "cell_type": "markdown",
   "id": "2cc26950-3407-4b82-ab20-455b36dbc0f2",
   "metadata": {},
   "source": [
    "GRADIENTE"
   ]
  },
  {
   "cell_type": "code",
   "execution_count": 1,
   "id": "e1c14079-f623-45d7-9d5d-e9cc4077cca2",
   "metadata": {},
   "outputs": [],
   "source": [
    "import cv2 as cv\n",
    "import numpy as np\n",
    "import matplotlib.pyplot as plt\n",
    "\n",
    "img=cv.imread('C:/Users/matia/Proyectos/Opencv/5.png')\n",
    "rimg = cv.resize(img, (800,500), interpolation = cv.INTER_CUBIC)\n",
    "gray = cv.cvtColor(rimg, cv.COLOR_BGR2GRAY)\n",
    "#cv.imshow('1', gray)\n",
    "#cv.waitKey(0)"
   ]
  },
  {
   "cell_type": "code",
   "execution_count": null,
   "id": "f2f3a1f4-a37e-4b5a-aabd-2c81fb4ac51f",
   "metadata": {},
   "outputs": [],
   "source": [
    "# LAplacian\n",
    "\n",
    "lap = cv.Laplacian(gray, cv.CV_64F)\n",
    "lap =np.uint8(np.absolute(lap))\n",
    "cv.imshow('L', lap)\n",
    "cv.waitKey(0)"
   ]
  },
  {
   "cell_type": "code",
   "execution_count": 2,
   "id": "af7bc2cd-55a4-498d-9f9e-d2d80584666e",
   "metadata": {
    "tags": []
   },
   "outputs": [
    {
     "data": {
      "text/plain": [
       "-1"
      ]
     },
     "execution_count": 2,
     "metadata": {},
     "output_type": "execute_result"
    }
   ],
   "source": [
    "# sobel\n",
    "sobelx = cv.Sobel(gray, cv.CV_64F, 1, 0)\n",
    "sobely = cv.Sobel(gray, cv.CV_64F, 0, 1)\n",
    "comb_sobel =cv.bitwise_or(sobelx, sobely)\n",
    "\n",
    "cv.imshow('X', sobelx) # mejor para este caso\n",
    "cv.imshow('y', sobely)\n",
    "cv.imshow('C', comb_sobel)\n",
    "cv.imshow('1', gray)\n",
    "\n",
    "# canny\n",
    "canny = cv.Canny(gray, 60,60)\n",
    "cv.imshow('canny', canny)\n",
    "\n",
    "cv.waitKey(0)"
   ]
  },
  {
   "cell_type": "markdown",
   "id": "46f45bd1-435a-48e5-a143-cc143ec2a64e",
   "metadata": {},
   "source": [
    "FACE DETECTION"
   ]
  },
  {
   "cell_type": "code",
   "execution_count": null,
   "id": "3bd0d246-105e-4eed-b428-5e01585cbc1b",
   "metadata": {},
   "outputs": [],
   "source": []
  }
 ],
 "metadata": {
  "kernelspec": {
   "display_name": "Python 3",
   "language": "python",
   "name": "python3"
  },
  "language_info": {
   "codemirror_mode": {
    "name": "ipython",
    "version": 3
   },
   "file_extension": ".py",
   "mimetype": "text/x-python",
   "name": "python",
   "nbconvert_exporter": "python",
   "pygments_lexer": "ipython3",
   "version": "3.9.5"
  }
 },
 "nbformat": 4,
 "nbformat_minor": 5
}
