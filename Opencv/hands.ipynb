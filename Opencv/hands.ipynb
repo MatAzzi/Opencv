{
 "cells": [
  {
   "cell_type": "code",
   "execution_count": 1,
   "id": "742f92e5",
   "metadata": {},
   "outputs": [
    {
     "name": "stdout",
     "output_type": "stream",
     "text": [
      "Collecting nodejs\n",
      "  Downloading nodejs-0.1.1.tar.gz (2.3 kB)\n",
      "Collecting optional-django==0.1.0\n",
      "  Downloading optional-django-0.1.0.tar.gz (9.5 kB)\n",
      "Building wheels for collected packages: nodejs, optional-django\n",
      "  Building wheel for nodejs (setup.py): started\n",
      "  Building wheel for nodejs (setup.py): finished with status 'done'\n",
      "  Created wheel for nodejs: filename=nodejs-0.1.1-py3-none-any.whl size=3492 sha256=73ef8b176fe34c0756b126cb656b0be7e44ca320c55eedc68d2ba23baaeb930a\n",
      "  Stored in directory: c:\\users\\matia\\appdata\\local\\pip\\cache\\wheels\\33\\6c\\3e\\c7c4e543b09f8fc396bb9d2bb0ee2c73d248c49201593c901e\n",
      "  Building wheel for optional-django (setup.py): started\n",
      "  Building wheel for optional-django (setup.py): finished with status 'done'\n",
      "  Created wheel for optional-django: filename=optional_django-0.1.0-py3-none-any.whl size=9980 sha256=a231e8020c2e0995cb7f23042a6ac06a87928173a9b219e9ac94840b12b35ab2\n",
      "  Stored in directory: c:\\users\\matia\\appdata\\local\\pip\\cache\\wheels\\02\\8b\\80\\98951377d9c707978a3798a23f2b260e00bcfc724073556cf4\n",
      "Successfully built nodejs optional-django\n",
      "Installing collected packages: optional-django, nodejs\n",
      "Successfully installed nodejs-0.1.1 optional-django-0.1.0\n",
      "Note: you may need to restart the kernel to use updated packages.\n"
     ]
    }
   ],
   "source": [
    "pip install nodejs"
   ]
  },
  {
   "cell_type": "code",
   "execution_count": 2,
   "id": "ff64a4b2",
   "metadata": {},
   "outputs": [
    {
     "name": "stdout",
     "output_type": "stream",
     "text": [
      "Collecting jupyter-kite\n",
      "  Downloading jupyter-kite-2.0.2.tar.gz (28 kB)\n",
      "Requirement already satisfied: tornado>=5.1.0 in d:\\anaconda3\\envs\\ocv\\lib\\site-packages (from jupyter-kite) (6.1)\n",
      "Requirement already satisfied: jupyter_server>=1.1.2 in d:\\anaconda3\\envs\\ocv\\lib\\site-packages (from jupyter-kite) (1.4.1)\n",
      "Requirement already satisfied: entrypoints in d:\\anaconda3\\envs\\ocv\\lib\\site-packages (from jupyter-kite) (0.3)\n",
      "Requirement already satisfied: anyio>=2.0.2 in d:\\anaconda3\\envs\\ocv\\lib\\site-packages (from jupyter_server>=1.1.2->jupyter-kite) (2.2.0)\n",
      "Requirement already satisfied: jinja2 in d:\\anaconda3\\envs\\ocv\\lib\\site-packages (from jupyter_server>=1.1.2->jupyter-kite) (3.0.1)\n",
      "Requirement already satisfied: nbconvert in d:\\anaconda3\\envs\\ocv\\lib\\site-packages (from jupyter_server>=1.1.2->jupyter-kite) (6.1.0)\n",
      "Requirement already satisfied: ipython-genutils in d:\\anaconda3\\envs\\ocv\\lib\\site-packages (from jupyter_server>=1.1.2->jupyter-kite) (0.2.0)\n",
      "Requirement already satisfied: terminado>=0.8.3 in d:\\anaconda3\\envs\\ocv\\lib\\site-packages (from jupyter_server>=1.1.2->jupyter-kite) (0.9.4)\n",
      "Requirement already satisfied: Send2Trash in d:\\anaconda3\\envs\\ocv\\lib\\site-packages (from jupyter_server>=1.1.2->jupyter-kite) (1.5.0)\n",
      "Requirement already satisfied: jupyter-core>=4.4.0 in d:\\anaconda3\\envs\\ocv\\lib\\site-packages (from jupyter_server>=1.1.2->jupyter-kite) (4.7.1)\n",
      "Requirement already satisfied: prometheus-client in d:\\anaconda3\\envs\\ocv\\lib\\site-packages (from jupyter_server>=1.1.2->jupyter-kite) (0.11.0)\n",
      "Requirement already satisfied: pyzmq>=17 in d:\\anaconda3\\envs\\ocv\\lib\\site-packages (from jupyter_server>=1.1.2->jupyter-kite) (20.0.0)\n",
      "Requirement already satisfied: nbformat in d:\\anaconda3\\envs\\ocv\\lib\\site-packages (from jupyter_server>=1.1.2->jupyter-kite) (5.1.3)\n",
      "Requirement already satisfied: traitlets>=4.2.1 in d:\\anaconda3\\envs\\ocv\\lib\\site-packages (from jupyter_server>=1.1.2->jupyter-kite) (5.0.5)\n",
      "Requirement already satisfied: pywin32>=1.0 in d:\\anaconda3\\envs\\ocv\\lib\\site-packages (from jupyter_server>=1.1.2->jupyter-kite) (228)\n",
      "Requirement already satisfied: jupyter-client>=6.1.1 in d:\\anaconda3\\envs\\ocv\\lib\\site-packages (from jupyter_server>=1.1.2->jupyter-kite) (6.1.12)\n",
      "Requirement already satisfied: idna>=2.8 in d:\\anaconda3\\envs\\ocv\\lib\\site-packages (from anyio>=2.0.2->jupyter_server>=1.1.2->jupyter-kite) (2.10)\n",
      "Requirement already satisfied: sniffio>=1.1 in d:\\anaconda3\\envs\\ocv\\lib\\site-packages (from anyio>=2.0.2->jupyter_server>=1.1.2->jupyter-kite) (1.2.0)\n",
      "Requirement already satisfied: python-dateutil>=2.1 in d:\\anaconda3\\envs\\ocv\\lib\\site-packages (from jupyter-client>=6.1.1->jupyter_server>=1.1.2->jupyter-kite) (2.8.2)\n",
      "Requirement already satisfied: six>=1.5 in d:\\anaconda3\\envs\\ocv\\lib\\site-packages (from python-dateutil>=2.1->jupyter-client>=6.1.1->jupyter_server>=1.1.2->jupyter-kite) (1.16.0)\n",
      "Requirement already satisfied: pywinpty>=0.5 in d:\\anaconda3\\envs\\ocv\\lib\\site-packages (from terminado>=0.8.3->jupyter_server>=1.1.2->jupyter-kite) (0.5.7)\n",
      "Requirement already satisfied: MarkupSafe>=2.0 in d:\\anaconda3\\envs\\ocv\\lib\\site-packages (from jinja2->jupyter_server>=1.1.2->jupyter-kite) (2.0.1)\n",
      "Requirement already satisfied: bleach in d:\\anaconda3\\envs\\ocv\\lib\\site-packages (from nbconvert->jupyter_server>=1.1.2->jupyter-kite) (3.3.1)\n",
      "Requirement already satisfied: mistune<2,>=0.8.1 in d:\\anaconda3\\envs\\ocv\\lib\\site-packages (from nbconvert->jupyter_server>=1.1.2->jupyter-kite) (0.8.4)\n",
      "Requirement already satisfied: pandocfilters>=1.4.1 in d:\\anaconda3\\envs\\ocv\\lib\\site-packages (from nbconvert->jupyter_server>=1.1.2->jupyter-kite) (1.4.3)\n",
      "Requirement already satisfied: jupyterlab-pygments in d:\\anaconda3\\envs\\ocv\\lib\\site-packages (from nbconvert->jupyter_server>=1.1.2->jupyter-kite) (0.1.2)\n",
      "Requirement already satisfied: pygments>=2.4.1 in d:\\anaconda3\\envs\\ocv\\lib\\site-packages (from nbconvert->jupyter_server>=1.1.2->jupyter-kite) (2.9.0)\n",
      "Requirement already satisfied: testpath in d:\\anaconda3\\envs\\ocv\\lib\\site-packages (from nbconvert->jupyter_server>=1.1.2->jupyter-kite) (0.5.0)\n",
      "Requirement already satisfied: defusedxml in d:\\anaconda3\\envs\\ocv\\lib\\site-packages (from nbconvert->jupyter_server>=1.1.2->jupyter-kite) (0.7.1)\n",
      "Requirement already satisfied: nbclient<0.6.0,>=0.5.0 in d:\\anaconda3\\envs\\ocv\\lib\\site-packages (from nbconvert->jupyter_server>=1.1.2->jupyter-kite) (0.5.3)\n",
      "Requirement already satisfied: async-generator in d:\\anaconda3\\envs\\ocv\\lib\\site-packages (from nbclient<0.6.0,>=0.5.0->nbconvert->jupyter_server>=1.1.2->jupyter-kite) (1.10)\n",
      "Requirement already satisfied: nest-asyncio in d:\\anaconda3\\envs\\ocv\\lib\\site-packages (from nbclient<0.6.0,>=0.5.0->nbconvert->jupyter_server>=1.1.2->jupyter-kite) (1.5.1)\n",
      "Requirement already satisfied: jsonschema!=2.5.0,>=2.4 in d:\\anaconda3\\envs\\ocv\\lib\\site-packages (from nbformat->jupyter_server>=1.1.2->jupyter-kite) (3.2.0)\n",
      "Requirement already satisfied: attrs>=17.4.0 in d:\\anaconda3\\envs\\ocv\\lib\\site-packages (from jsonschema!=2.5.0,>=2.4->nbformat->jupyter_server>=1.1.2->jupyter-kite) (21.2.0)\n",
      "Requirement already satisfied: setuptools in d:\\anaconda3\\envs\\ocv\\lib\\site-packages (from jsonschema!=2.5.0,>=2.4->nbformat->jupyter_server>=1.1.2->jupyter-kite) (52.0.0.post20210125)\n",
      "Requirement already satisfied: pyrsistent>=0.14.0 in d:\\anaconda3\\envs\\ocv\\lib\\site-packages (from jsonschema!=2.5.0,>=2.4->nbformat->jupyter_server>=1.1.2->jupyter-kite) (0.18.0)\n",
      "Requirement already satisfied: packaging in d:\\anaconda3\\envs\\ocv\\lib\\site-packages (from bleach->nbconvert->jupyter_server>=1.1.2->jupyter-kite) (21.0)\n",
      "Requirement already satisfied: webencodings in d:\\anaconda3\\envs\\ocv\\lib\\site-packages (from bleach->nbconvert->jupyter_server>=1.1.2->jupyter-kite) (0.5.1)\n",
      "Requirement already satisfied: pyparsing>=2.0.2 in d:\\anaconda3\\envs\\ocv\\lib\\site-packages (from packaging->bleach->nbconvert->jupyter_server>=1.1.2->jupyter-kite) (2.4.7)\n",
      "Building wheels for collected packages: jupyter-kite\n",
      "  Building wheel for jupyter-kite (setup.py): started\n",
      "  Building wheel for jupyter-kite (setup.py): finished with status 'done'\n",
      "  Created wheel for jupyter-kite: filename=jupyter_kite-2.0.2-py3-none-any.whl size=37335 sha256=cd636a62ca9620b5a74ca160270668c012dbcf7f231f50470f6f64f9d3124b59\n",
      "  Stored in directory: c:\\users\\matia\\appdata\\local\\pip\\cache\\wheels\\b7\\a7\\62\\7722511283a79739f7a5975286c58fc1279dac0ab3f31c3644\n",
      "Successfully built jupyter-kite\n",
      "Installing collected packages: jupyter-kite\n",
      "Successfully installed jupyter-kite-2.0.2\n",
      "Note: you may need to restart the kernel to use updated packages.\n"
     ]
    }
   ],
   "source": [
    "pip install jupyter-kite"
   ]
  },
  {
   "cell_type": "code",
   "execution_count": 1,
   "id": "c532f28c",
   "metadata": {},
   "outputs": [
    {
     "name": "stdout",
     "output_type": "stream",
     "text": [
      "Collecting mediapipe\n",
      "  Downloading mediapipe-0.8.6-cp39-cp39-win_amd64.whl (48.1 MB)\n",
      "Requirement already satisfied: attrs>=19.1.0 in d:\\anaconda3\\envs\\ocv\\lib\\site-packages (from mediapipe) (21.2.0)\n",
      "Requirement already satisfied: six in d:\\anaconda3\\envs\\ocv\\lib\\site-packages (from mediapipe) (1.16.0)\n",
      "Requirement already satisfied: wheel in d:\\anaconda3\\envs\\ocv\\lib\\site-packages (from mediapipe) (0.36.2)\n",
      "Collecting protobuf>=3.11.4\n",
      "  Downloading protobuf-3.17.3-cp39-cp39-win_amd64.whl (909 kB)\n",
      "Collecting absl-py\n",
      "  Downloading absl_py-0.13.0-py3-none-any.whl (132 kB)\n",
      "Requirement already satisfied: opencv-contrib-python in d:\\anaconda3\\envs\\ocv\\lib\\site-packages (from mediapipe) (4.5.3.56)\n",
      "Requirement already satisfied: numpy in d:\\anaconda3\\envs\\ocv\\lib\\site-packages (from mediapipe) (1.21.0)\n",
      "Requirement already satisfied: matplotlib in d:\\anaconda3\\envs\\ocv\\lib\\site-packages (from mediapipe) (3.4.2)\n",
      "Requirement already satisfied: cycler>=0.10 in d:\\anaconda3\\envs\\ocv\\lib\\site-packages (from matplotlib->mediapipe) (0.10.0)\n",
      "Requirement already satisfied: python-dateutil>=2.7 in d:\\anaconda3\\envs\\ocv\\lib\\site-packages (from matplotlib->mediapipe) (2.8.2)\n",
      "Requirement already satisfied: pyparsing>=2.2.1 in d:\\anaconda3\\envs\\ocv\\lib\\site-packages (from matplotlib->mediapipe) (2.4.7)\n",
      "Requirement already satisfied: kiwisolver>=1.0.1 in d:\\anaconda3\\envs\\ocv\\lib\\site-packages (from matplotlib->mediapipe) (1.3.1)\n",
      "Requirement already satisfied: pillow>=6.2.0 in d:\\anaconda3\\envs\\ocv\\lib\\site-packages (from matplotlib->mediapipe) (8.3.1)\n",
      "Installing collected packages: protobuf, absl-py, mediapipe\n",
      "Successfully installed absl-py-0.13.0 mediapipe-0.8.6 protobuf-3.17.3\n",
      "Note: you may need to restart the kernel to use updated packages.\n"
     ]
    }
   ],
   "source": [
    "pip install mediapipe"
   ]
  },
  {
   "cell_type": "code",
   "execution_count": 4,
   "id": "d22e6942",
   "metadata": {},
   "outputs": [],
   "source": [
    "import cv2 as cv\n",
    "import mediapipe as mp\n",
    "import time"
   ]
  },
  {
   "cell_type": "code",
   "execution_count": 23,
   "id": "807f3ae0",
   "metadata": {},
   "outputs": [],
   "source": [
    "cap =cv.VideoCapture(1)\n",
    "mpHands =mp.solutions.hands\n",
    "hands = mpHands.Hands()\n",
    "mpDraw =mp.solutions.drawing_utils\n",
    "pTime=0 #tiempo previo\n",
    "cTime=0\n",
    "while True:\n",
    "    isTrue, img = cap.read()\n",
    "    \n",
    "    \n",
    "    imgRGB = cv.cvtColor(img, cv.COLOR_BGR2RGB)\n",
    "    results = hands.process(imgRGB)\n",
    "    #print(results.multi_hand_landmarks)\n",
    "    if results.multi_hand_landmarks:\n",
    "        for handLms in results.multi_hand_landmarks: #leo los puntos de las manos\n",
    "            for id, lm in enumerate(handLms.landmark): #enumera y saca el dato\n",
    "                h, w, c = img.shape\n",
    "                cx, cy = int(lm.x*w), int(lm.y*h) # coordenada de cada punto\n",
    "                if id==0:\n",
    "                    cv.circle(img, (cx, cy), 15, (0,0,0), -1)\n",
    "                \n",
    "            mpDraw.draw_landmarks(img, handLms, mpHands.HAND_CONNECTIONS)\n",
    "        \n",
    "    \n",
    "    \n",
    "    if cv.waitKey(20) & 0xFF==ord('d'):\n",
    "         break\n",
    "    cTime = time.time()\n",
    "    fps = 1/(cTime-pTime)\n",
    "    pTime = cTime\n",
    "    cv.putText(img, 'fps: ' + str(int(fps)), (10,30), cv.FONT_HERSHEY_PLAIN, 1, (0,0,0), 1)\n",
    "    cv.imshow('video',img)\n",
    "\n",
    "cap.release()\n",
    "cv.destroyAllWindows()"
   ]
  },
  {
   "cell_type": "code",
   "execution_count": null,
   "id": "8c002e99-14bc-4a9c-be1c-135feaceb5d6",
   "metadata": {},
   "outputs": [],
   "source": []
  }
 ],
 "metadata": {
  "kernelspec": {
   "display_name": "Python 3",
   "language": "python",
   "name": "python3"
  },
  "language_info": {
   "codemirror_mode": {
    "name": "ipython",
    "version": 3
   },
   "file_extension": ".py",
   "mimetype": "text/x-python",
   "name": "python",
   "nbconvert_exporter": "python",
   "pygments_lexer": "ipython3",
   "version": "3.9.5"
  }
 },
 "nbformat": 4,
 "nbformat_minor": 5
}
